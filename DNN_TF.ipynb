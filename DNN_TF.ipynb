{
 "cells": [
  {
   "cell_type": "code",
   "execution_count": 1,
   "metadata": {
    "collapsed": true
   },
   "outputs": [],
   "source": [
    "import numpy as np\n",
    "import tensorflow as tf\n",
    "import os"
   ]
  },
  {
   "cell_type": "markdown",
   "metadata": {},
   "source": [
    "## Get and inpect data"
   ]
  },
  {
   "cell_type": "code",
   "execution_count": 2,
   "metadata": {
    "collapsed": false
   },
   "outputs": [
    {
     "name": "stdout",
     "output_type": "stream",
     "text": [
      "Extracting /notebooks/data/MNIST_data/train-images-idx3-ubyte.gz\n",
      "Extracting /notebooks/data/MNIST_data/train-labels-idx1-ubyte.gz\n",
      "Extracting /notebooks/data/MNIST_data/t10k-images-idx3-ubyte.gz\n",
      "Extracting /notebooks/data/MNIST_data/t10k-labels-idx1-ubyte.gz\n"
     ]
    }
   ],
   "source": [
    "from tensorflow.examples.tutorials.mnist import input_data\n",
    "mnist = input_data.read_data_sets(\"/notebooks/data/MNIST_data/\", one_hot=True)"
   ]
  },
  {
   "cell_type": "code",
   "execution_count": 3,
   "metadata": {
    "collapsed": false
   },
   "outputs": [
    {
     "name": "stdout",
     "output_type": "stream",
     "text": [
      "[[ 0.  0.  0.  0.  0.  1.  0.  0.  0.  0.]]\n",
      "Training set (55000, 784) (55000, 10)\n",
      "Validation set (5000, 784) (5000, 10)\n",
      "Test set (10000, 784) (10000, 10)\n"
     ]
    }
   ],
   "source": [
    "print(mnist.validation.labels[:1])\n",
    "print('Training set', mnist.train.images.shape, mnist.train.labels.shape)\n",
    "print('Validation set', mnist.validation.images.shape, mnist.validation.labels.shape)\n",
    "print('Test set', mnist.test.images.shape, mnist.test.labels.shape)"
   ]
  },
  {
   "cell_type": "markdown",
   "metadata": {
    "collapsed": false
   },
   "source": [
    "## Define the neural network layers"
   ]
  },
  {
   "cell_type": "code",
   "execution_count": 4,
   "metadata": {
    "collapsed": false
   },
   "outputs": [],
   "source": [
    "\n",
    "def hidden(data, in_dims, out_dims, name):\n",
    "    with tf.name_scope(name):\n",
    "        w = tf.Variable(tf.truncated_normal([in_dims, out_dims], stddev=0.01), name=\"W\")\n",
    "        #w = tf.Variable(tf.zeros([in_dims, out_dims]), name=\"W\")\n",
    "        b = tf.Variable(tf.zeros([out_dims]), name=\"B\")\n",
    "        out = tf.matmul(data, w) + b\n",
    "        act = tf.nn.relu(out)\n",
    "        return act\n",
    "        "
   ]
  },
  {
   "cell_type": "code",
   "execution_count": 5,
   "metadata": {
    "collapsed": true
   },
   "outputs": [],
   "source": [
    "def out_layer(data, in_dims, out_dims, name):\n",
    "    with tf.name_scope(name):\n",
    "        w = tf.Variable(tf.truncated_normal([in_dims, out_dims], stddev=0.01), name=\"W\")\n",
    "        #w = tf.Variable(tf.zeros([in_dims, out_dims]), name=\"W\")\n",
    "        b = tf.Variable(tf.zeros(out_dims))\n",
    "        out = tf.matmul(data, w) + b\n",
    "        return out"
   ]
  },
  {
   "cell_type": "markdown",
   "metadata": {},
   "source": [
    "## Define the hyperparameters"
   ]
  },
  {
   "cell_type": "code",
   "execution_count": 6,
   "metadata": {
    "collapsed": true
   },
   "outputs": [],
   "source": [
    "batch_size = 50\n",
    "num_of_epochs = 4\n",
    "image_size = 28\n",
    "num_labels = 10\n",
    "log_dir = '/notebooks/data/demo/'\n",
    "lr = 1e-2"
   ]
  },
  {
   "cell_type": "markdown",
   "metadata": {},
   "source": [
    "## give a name to the run"
   ]
  },
  {
   "cell_type": "code",
   "execution_count": 7,
   "metadata": {
    "collapsed": false
   },
   "outputs": [],
   "source": [
    "run_name = 'run-demo-1-lr-' + str(lr) + '-b' + str(batch_size) + 'h_' + 'L-100-150-50-25'"
   ]
  },
  {
   "cell_type": "markdown",
   "metadata": {},
   "source": [
    "## Reset the graph"
   ]
  },
  {
   "cell_type": "code",
   "execution_count": 8,
   "metadata": {
    "collapsed": true
   },
   "outputs": [],
   "source": [
    "tf.reset_default_graph()"
   ]
  },
  {
   "cell_type": "markdown",
   "metadata": {},
   "source": [
    "## Define inputs"
   ]
  },
  {
   "cell_type": "code",
   "execution_count": 9,
   "metadata": {
    "collapsed": false
   },
   "outputs": [
    {
     "data": {
      "text/plain": [
       "<tf.Tensor 'input:0' shape=() dtype=string>"
      ]
     },
     "execution_count": 9,
     "metadata": {},
     "output_type": "execute_result"
    }
   ],
   "source": [
    "x = tf.placeholder(tf.float32, shape=[None, image_size * image_size], name=\"X\")\n",
    "y_label = tf.placeholder(tf.float32, shape=[None, num_labels], name=\"Y_label\")\n",
    "\n",
    "image_shaped_input = tf.reshape(x, [-1, image_size, image_size, 1])\n",
    "tf.summary.image('input', image_shaped_input, 10)"
   ]
  },
  {
   "cell_type": "markdown",
   "metadata": {},
   "source": [
    "## Define the network"
   ]
  },
  {
   "cell_type": "code",
   "execution_count": 10,
   "metadata": {
    "collapsed": false
   },
   "outputs": [],
   "source": [
    "hidden1 = hidden(x, image_size * image_size, 100, \"hidden1\")\n",
    "hidden2 = hidden(hidden1, 100, 150, \"hidden2\")\n",
    "hidden3 = hidden(hidden2, 150, 50, \"hidden3\")\n",
    "hidden4 = hidden(hidden3, 50, 25, \"hidden4\")\n",
    "pred = out_layer(hidden4, 25, num_labels, \"pred\")"
   ]
  },
  {
   "cell_type": "markdown",
   "metadata": {},
   "source": [
    "## Define the operations"
   ]
  },
  {
   "cell_type": "code",
   "execution_count": 11,
   "metadata": {
    "collapsed": false
   },
   "outputs": [
    {
     "data": {
      "text/plain": [
       "<tf.Tensor 'loss:0' shape=() dtype=string>"
      ]
     },
     "execution_count": 11,
     "metadata": {},
     "output_type": "execute_result"
    }
   ],
   "source": [
    "with tf.name_scope(\"xent\"):\n",
    "    cost = tf.reduce_mean(tf.nn.softmax_cross_entropy_with_logits(logits=pred, labels=y_label))\n",
    "with tf.name_scope(\"accuracy\"):\n",
    "    correct = tf.equal(tf.argmax(pred, 1), tf.argmax(y_label, 1))\n",
    "    accuracy = tf.reduce_mean(tf.cast(correct, tf.float32))\n",
    "tf.summary.scalar('acc', accuracy)\n",
    "tf.summary.scalar('loss', cost)"
   ]
  },
  {
   "cell_type": "code",
   "execution_count": 12,
   "metadata": {
    "collapsed": false
   },
   "outputs": [],
   "source": [
    "with tf.name_scope(\"train\"):\n",
    "    train_step = tf.train.AdamOptimizer(lr).minimize(cost)"
   ]
  },
  {
   "cell_type": "markdown",
   "metadata": {},
   "source": [
    "## Start a tensorflow session"
   ]
  },
  {
   "cell_type": "code",
   "execution_count": 13,
   "metadata": {
    "collapsed": true
   },
   "outputs": [],
   "source": [
    "sess = tf.Session()\n",
    "sess.run(tf.global_variables_initializer())"
   ]
  },
  {
   "cell_type": "markdown",
   "metadata": {},
   "source": [
    "## Setup the tensorboard parameters"
   ]
  },
  {
   "cell_type": "code",
   "execution_count": 14,
   "metadata": {
    "collapsed": true
   },
   "outputs": [],
   "source": [
    "summ = tf.summary.merge_all()\n",
    "train_writer = tf.summary.FileWriter(log_dir + 'train/' + run_name)\n",
    "train_writer.add_graph(sess.graph)"
   ]
  },
  {
   "cell_type": "markdown",
   "metadata": {},
   "source": [
    "## Train the model"
   ]
  },
  {
   "cell_type": "code",
   "execution_count": 16,
   "metadata": {
    "collapsed": false
   },
   "outputs": [
    {
     "name": "stdout",
     "output_type": "stream",
     "text": [
      "Epoch 1 completed out of 4 train_loss: 812.083379801 train_ccuracy: 0.98\n",
      "Epoch 1 completed out of 4 valid_loss: 0.245514 valid_accuracy: 0.9334\n",
      "Epoch 2 completed out of 4 train_loss: 265.91602959 train_ccuracy: 0.96\n",
      "Epoch 2 completed out of 4 valid_loss: 0.211011 valid_accuracy: 0.9438\n",
      "Epoch 3 completed out of 4 train_loss: 215.232016299 train_ccuracy: 0.98\n",
      "Epoch 3 completed out of 4 valid_loss: 0.212554 valid_accuracy: 0.9518\n",
      "Epoch 4 completed out of 4 train_loss: 188.751747036 train_ccuracy: 1.0\n",
      "Epoch 4 completed out of 4 valid_loss: 0.181363 valid_accuracy: 0.96\n",
      "Test accuracy: 0.9579 Test loss: 0.184483\n"
     ]
    }
   ],
   "source": [
    "\n",
    "total_train_indexes = len(mnist.train.images)\n",
    "for epoch in range(num_of_epochs):\n",
    "    i = 0\n",
    "    epoch_loss = 0\n",
    "    while i < total_train_indexes:\n",
    "        start = i\n",
    "        end = i + batch_size\n",
    "\n",
    "        if end > total_train_indexes:\n",
    "            end = total_train_indexes\n",
    "\n",
    "        batch_dataset = mnist.train.images[start:end]\n",
    "        batch_labels = mnist.train.labels[start:end]\n",
    "\n",
    "        input_dict = {x: batch_dataset, y_label: batch_labels}\n",
    "        _, epoch_accuracy, loss, s = sess.run([train_step, accuracy, cost, summ], feed_dict=input_dict)\n",
    "        epoch_loss += loss\n",
    "        train_writer.add_summary(s, i + total_train_indexes * epoch)\n",
    "        i += batch_size\n",
    "    valid_accuracy, valid_loss = sess.run([accuracy, cost], \n",
    "                                                   feed_dict={x: mnist.validation.images, \n",
    "                                                              y_label: mnist.validation.labels})  \n",
    "    \n",
    "    print('Epoch', epoch + 1, 'completed out of',num_of_epochs,'train_loss:',epoch_loss, 'train_ccuracy:', epoch_accuracy)\n",
    "    print('Epoch', epoch + 1, 'completed out of',num_of_epochs,'valid_loss:',valid_loss, 'valid_accuracy:', valid_accuracy)\n",
    "    \n",
    "test_accuracy, test_loss = sess.run([accuracy, cost], feed_dict={x: mnist.test.images, y_label: mnist.test.labels})\n",
    "\n",
    "print(\"Test accuracy:\", test_accuracy, \"Test loss:\", test_loss)"
   ]
  }
 ],
 "metadata": {
  "kernelspec": {
   "display_name": "Python 3",
   "language": "python",
   "name": "python3"
  },
  "language_info": {
   "codemirror_mode": {
    "name": "ipython",
    "version": 3
   },
   "file_extension": ".py",
   "mimetype": "text/x-python",
   "name": "python",
   "nbconvert_exporter": "python",
   "pygments_lexer": "ipython3",
   "version": "3.6.0"
  }
 },
 "nbformat": 4,
 "nbformat_minor": 2
}
