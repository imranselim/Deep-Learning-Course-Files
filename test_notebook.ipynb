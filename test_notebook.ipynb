{
 "cells": [
  {
   "cell_type": "code",
   "execution_count": 1,
   "metadata": {
    "collapsed": false
   },
   "outputs": [
    {
     "name": "stderr",
     "output_type": "stream",
     "text": [
      "Using TensorFlow backend.\n"
     ]
    }
   ],
   "source": [
    "import keras \n",
    "import numpy as np\n",
    "import tensorflow as tf\n",
    "import bcolz"
   ]
  },
  {
   "cell_type": "code",
   "execution_count": 2,
   "metadata": {
    "collapsed": false
   },
   "outputs": [
    {
     "name": "stdout",
     "output_type": "stream",
     "text": [
      "Extracting /notebooks/data/MNIST_data/train-images-idx3-ubyte.gz\n",
      "Extracting /notebooks/data/MNIST_data/train-labels-idx1-ubyte.gz\n",
      "Extracting /notebooks/data/MNIST_data/t10k-images-idx3-ubyte.gz\n",
      "Extracting /notebooks/data/MNIST_data/t10k-labels-idx1-ubyte.gz\n"
     ]
    }
   ],
   "source": [
    "from tensorflow.examples.tutorials.mnist import input_data\n",
    "mnist = input_data.read_data_sets(\"/notebooks/data/MNIST_data/\", one_hot=True)"
   ]
  },
  {
   "cell_type": "code",
   "execution_count": 3,
   "metadata": {
    "collapsed": false
   },
   "outputs": [],
   "source": [
    "log_dir = '/notebooks/data/tf_tmp'\n",
    "with tf.name_scope('test'):\n",
    "    n_input_nodes = 2\n",
    "    n_output_nodes = 1\n",
    "    x = tf.placeholder(tf.float32, (None, n_input_nodes))\n",
    "    W = tf.Variable(tf.ones((n_input_nodes, n_output_nodes)), dtype=tf.float32)\n",
    "    b = tf.Variable(tf.zeros(n_output_nodes), dtype=tf.float32)\n",
    "\n",
    "    z = tf.matmul(W, x) + b\n",
    "\n",
    "    out = tf.sigmoid(z)\n",
    "    "
   ]
  },
  {
   "cell_type": "code",
   "execution_count": 4,
   "metadata": {
    "collapsed": false
   },
   "outputs": [
    {
     "name": "stdout",
     "output_type": "stream",
     "text": [
      "[[ 0.62245935  0.62245935]\n",
      " [ 0.62245935  0.62245935]]\n"
     ]
    }
   ],
   "source": [
    "test_input = [[0.5, 0.5]]\n",
    "with tf.Session() as sess:\n",
    "    tf.global_variables_initializer().run(session=sess)\n",
    "    feed_dict = {x: test_input}\n",
    "    output = sess.run([out], feed_dict=feed_dict)\n",
    "    \n",
    "    summ = tf.summary.merge_all()\n",
    "    test_writer = tf.summary.FileWriter(log_dir + '/test1', sess.graph)\n",
    "    test_writer.close()\n",
    "    print(output[0])"
   ]
  },
  {
   "cell_type": "markdown",
   "metadata": {},
   "source": [
    "## Run tensorboard\n",
    "1. Open a new terminal window\n",
    "2. Type \"docker exec -ti mynotebook /bin/bash\n",
    "3. on # prompt type tensorboard --logdir=/notebooks/data/tf_tmp\n",
    "4. Open a new browser tab and go to 0.0.0.0:6006 (for toolbox installations it will be 192.168.xx.xxx:6006)\n",
    "5. Go to the graphs tab and if you see a graph, it means everything is working fine"
   ]
  }
 ],
 "metadata": {
  "anaconda-cloud": {},
  "kernelspec": {
   "display_name": "Python 3",
   "language": "python",
   "name": "python3"
  },
  "language_info": {
   "codemirror_mode": {
    "name": "ipython",
    "version": 3
   },
   "file_extension": ".py",
   "mimetype": "text/x-python",
   "name": "python",
   "nbconvert_exporter": "python",
   "pygments_lexer": "ipython3",
   "version": "3.6.0"
  }
 },
 "nbformat": 4,
 "nbformat_minor": 2
}
